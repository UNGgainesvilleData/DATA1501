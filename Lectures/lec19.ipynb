{
 "cells": [
  {
   "cell_type": "code",
   "execution_count": null,
   "metadata": {},
   "outputs": [],
   "source": [
    "from datascience import *\n",
    "import numpy as np\n",
    "\n",
    "%matplotlib inline\n",
    "import matplotlib.pyplot as plots\n",
    "plots.style.use('fivethirtyeight')"
   ]
  },
  {
   "cell_type": "markdown",
   "metadata": {},
   "source": [
    "# Comparing Two Samples"
   ]
  },
  {
   "cell_type": "code",
   "execution_count": null,
   "metadata": {},
   "outputs": [],
   "source": [
    "births = Table.read_table('baby.csv')\n",
    "#The table contains \n",
    "\n",
    "#the baby's birth weight in ounces\n",
    "# the number of gestational days, \n",
    "#the mother's age in completed years#\n",
    "#the mother's height in inches,\n",
    "#pregnancy weight in pounds\n",
    "# and whether or not the mother smoked during pregnancy.\n",
    "\n",
    "\n",
    "#The question we are looking at is the following:\n",
    "#Does smoking have a effect on birth weight? \n",
    "\n",
    "#We will first compute the difference in average wights \n",
    "#between the smokers and the nonsmokers\n"
   ]
  },
  {
   "cell_type": "code",
   "execution_count": null,
   "metadata": {},
   "outputs": [],
   "source": [
    "# lets first get just the birthweigh and the smoker info\n",
    "smoking_babies=births.select(\"Birth Weight\",\"Maternal Smoker\")\n",
    "#lets save  this table to a variable and use group to find \n",
    "# how large each group is \n",
    "smoking_babies.group('Maternal Smoker')\n",
    "# we have more maternal smokers \n",
    "\n",
    "#Lets now find the average weight of each group\n",
    "\n",
    "smoking_babies.group('Maternal Smoker', np.average)\n",
    "average_babies=smoking_babies.group('Maternal Smoker', np.average)\n",
    "\n",
    "#The observed statistic we will be lookin at is given by\n",
    "# the difference of the smokers by the nonsmokers\n",
    "\n",
    "observed_statistic = 113.819-123.085\n",
    "observed_statistic\n",
    "\n",
    "\n",
    "#Question:  What values of our statistic are in \n",
    "#favor of the alternative: positive or negative?\n",
    "\n",
    "#the statistic is a negative value since a negatice number\n",
    "#means the non smoker babies are heavier on average in this data so far"
   ]
  },
  {
   "cell_type": "code",
   "execution_count": null,
   "metadata": {},
   "outputs": [],
   "source": [
    "smoking_and_birthweight = births.select('Maternal Smoker', 'Birth Weight')"
   ]
  },
  {
   "cell_type": "code",
   "execution_count": null,
   "metadata": {},
   "outputs": [],
   "source": [
    "smoking_and_birthweight.group('Maternal Smoker')"
   ]
  },
  {
   "cell_type": "code",
   "execution_count": null,
   "metadata": {},
   "outputs": [],
   "source": [
    "smoking_and_birthweight.hist('Birth Weight', group='Maternal Smoker')"
   ]
  },
  {
   "cell_type": "markdown",
   "metadata": {},
   "source": [
    "# Test Statistic\n",
    "\n",
    "[Question] What values of our statistic are in favor of the alternative: positive or negative?"
   ]
  },
  {
   "cell_type": "code",
   "execution_count": null,
   "metadata": {},
   "outputs": [],
   "source": [
    "average_babies\n",
    "\n",
    "#notice we hard coded the observed statistic\n",
    "#we want to repeat this logic so we will rewrite it as \n",
    "# a function\n",
    "\n",
    "#lets walk thourhg anoother way of computing the \n",
    "#test statistic\n",
    "\n",
    "averageshold=average_babies.column(\"Birth Weight average\")\n",
    "#now we wnat the difference of smokers - nonsmokers \n",
    "observed_stat=averageshold.item(1)-averageshold.item(0)\n",
    "\n",
    "\n",
    "#Select birth weight and smoking maternal\n",
    "#Find averages of groups - needed a table\n",
    "#Got column of averages - used .column\n",
    "#found difference - \n",
    "\n",
    "def difference_of_averages(inputT):\n",
    "    BM=inputT.select(\"Birth Weight\",\"Maternal Smoker\")\n",
    "    average_table=BM.group(\"Maternal Smoker\",np.average)\n",
    "    means = average_table.column(\"Birth Weight average\")\n",
    "    return means.item(1)-means.item(0)\n",
    "\n",
    "#Computes differences of average birth weight between smokers\n",
    "#and nonsmokers\n",
    "difference_of_averages(births)"
   ]
  },
  {
   "cell_type": "code",
   "execution_count": null,
   "metadata": {},
   "outputs": [],
   "source": [
    "means = means_table.column(1)\n",
    "observed_difference = means.item(1) - means.item(0)\n",
    "observed_difference"
   ]
  },
  {
   "cell_type": "code",
   "execution_count": null,
   "metadata": {},
   "outputs": [],
   "source": [
    "def difference_of_means(table, label, group_label):\n",
    "    \"\"\"Takes: name of table, column label of numerical variable,\n",
    "    column label of group-label variable\n",
    "    Returns: Difference of means of the two groups\"\"\"\n",
    "    \n",
    "    #table with the two relevant columns\n",
    "    reduced = table.select(label, group_label)  \n",
    "    \n",
    "    # table containing group means\n",
    "    means_table = reduced.group(group_label, np.average)\n",
    "    # array of group means\n",
    "    means = means_table.column(1)\n",
    "    \n",
    "    return means.item(1) - means.item(0)"
   ]
  },
  {
   "cell_type": "code",
   "execution_count": null,
   "metadata": {},
   "outputs": [],
   "source": [
    "difference_of_means(births, 'Birth Weight', 'Maternal Smoker')"
   ]
  },
  {
   "cell_type": "markdown",
   "metadata": {},
   "source": [
    "# Random Permutation (Shuffling)"
   ]
  },
  {
   "cell_type": "code",
   "execution_count": null,
   "metadata": {},
   "outputs": [],
   "source": [
    "#We want to see then if the observed statistic due to chance?\n",
    "#i. is the p-value of -9.26 small or large?  \n",
    "\n",
    "#to do so we assume that smoking has no real effect!\n",
    "\n",
    "#To set up our experiment we will use permutation\n",
    "\n",
    "#Again if smoking vs nonsmoking does not effect weight then\n",
    "#we would expect the average birth weights to be close\n",
    "\n",
    "#avergesmokerwight - avergenonsmokerwight about 0\n",
    "\n",
    "\n",
    "#lets reiew sample\n",
    "\n",
    "letters = Table().with_column('Letter', make_array('a', 'b', 'c', 'd', 'e'))"
   ]
  },
  {
   "cell_type": "code",
   "execution_count": null,
   "metadata": {},
   "outputs": [],
   "source": [
    "# sample randomly chooses with replacement\n",
    "letters.sample()\n",
    "#if there is no sample size it just shuffules the entire sample\n",
    "\n",
    "#there is an optional argument where we can sample without replacement\n",
    "letters.sample(with_replacement = False) #permutes all elements\n",
    "#this makes sure we do not draw the same item twice\n",
    "\n",
    "#so if we would like to 'permuate an attribute' we can use sample without replacement\n",
    "\n",
    "permutated_letters=letters.sample(with_replacement = False).column(0)\n",
    "letters.with_column('Permutated',permutated_letters)"
   ]
  },
  {
   "cell_type": "code",
   "execution_count": null,
   "metadata": {},
   "outputs": [],
   "source": [
    "letters.sample(with_replacement = False)"
   ]
  },
  {
   "cell_type": "code",
   "execution_count": null,
   "metadata": {},
   "outputs": [],
   "source": [
    "letters.with_column('Shuffled', letters.sample(with_replacement = False).column(0))"
   ]
  },
  {
   "cell_type": "markdown",
   "metadata": {},
   "source": [
    "# Simulation Under Null Hypothesis"
   ]
  },
  {
   "cell_type": "code",
   "execution_count": null,
   "metadata": {},
   "outputs": [],
   "source": [
    "smoking_babies\n",
    "#Shuffle all group labels\n",
    "#Assign each shuffled label to a birth weight\n",
    "#Find the difference between the averages of the two  shuffled groups\n",
    "#Repeat\n",
    "permutated_smoking_attribute=smoking_babies.select(\"Maternal Smoker\").sample(with_replacement =False).column(0)\n",
    "\n",
    "smoking_babies.with_columns('Permutated Maternal Smoker',permutated_smoking_attribute)\n",
    "#lets make this table to use our janky funciton\n",
    "permutated=smoking_babies.select(\"Birth Weight\").with_columns('Maternal Smoker',permutated_smoking_attribute)\n",
    "#still permutated labels\n",
    "\n",
    "#use our jank function\n",
    "difference_of_averages(permutated)\n",
    "# Very close to zero in comparions to -9\n",
    "\n",
    "#Now we will run simulation\n",
    "\n",
    "#Make function to simulates the expierment\n",
    "def permutate_and_average():\n",
    "    #permutate thelables and save\n",
    "    perm=smoking_babies.select(\"Maternal Smoker\").sample(with_replacement =False).column(0)\n",
    "    #make table with weights and permutated labels then save\n",
    "    permutated_table=smoking_babies.select(\"Birth Weight\").with_columns('Maternal Smoker',perm)\n",
    "    #place our table into our function to compute average and return result\n",
    "    return difference_of_averages(permutated_table)\n",
    "\n",
    "permutate_and_average()\n",
    "#use for loop to rerurn 1000 and record results\n",
    "\n",
    "#make array to save data\n",
    "hold = make_array()\n",
    "\n",
    "for i in np.arange(1000):\n",
    "    new_average=permutate_and_average()\n",
    "    hold = np.append(hold,new_average)\n",
    "\n"
   ]
  },
  {
   "cell_type": "code",
   "execution_count": null,
   "metadata": {},
   "outputs": [],
   "source": [
    "averages=Table().with_column('Averages',hold)"
   ]
  },
  {
   "cell_type": "code",
   "execution_count": null,
   "metadata": {},
   "outputs": [],
   "source": [
    "averages.hist(bins=np.arange(-10,10,.5))\n",
    "#most of the averages are between -4 and 4 pounds\n",
    "#it seems like our ouserved statistic is not random\n",
    "#since our simulated values are far away!\n",
    "\n",
    "#lets try to compute the p-value\n",
    "\n",
    "np.count_nonzero(hold<=difference_of_averages(births))\n",
    "#The p-value is zero!!\n",
    "#Since there are no simulated averages that are less then -9.16\n",
    "#There for the p-value is extermely low and smoking does have an effect!"
   ]
  },
  {
   "cell_type": "code",
   "execution_count": null,
   "metadata": {},
   "outputs": [],
   "source": [
    "original_and_shuffled"
   ]
  },
  {
   "cell_type": "code",
   "execution_count": null,
   "metadata": {},
   "outputs": [],
   "source": [
    "difference_of_means(original_and_shuffled, 'Birth Weight', 'Shuffled Label')"
   ]
  },
  {
   "cell_type": "code",
   "execution_count": null,
   "metadata": {},
   "outputs": [],
   "source": [
    "difference_of_means(original_and_shuffled, 'Birth Weight', 'Maternal Smoker')"
   ]
  },
  {
   "cell_type": "markdown",
   "metadata": {},
   "source": [
    "# Permutation Test"
   ]
  },
  {
   "cell_type": "code",
   "execution_count": null,
   "metadata": {},
   "outputs": [],
   "source": [
    "#Now we will run simulation\n",
    "\n",
    "#Make function to simulates the expierment\n",
    "\n",
    "\n",
    "#use for loop to rerurn 1000 and record results"
   ]
  },
  {
   "cell_type": "code",
   "execution_count": null,
   "metadata": {},
   "outputs": [],
   "source": [
    "one_simulated_difference(births, 'Birth Weight', 'Maternal Smoker')"
   ]
  },
  {
   "cell_type": "code",
   "execution_count": null,
   "metadata": {},
   "outputs": [],
   "source": [
    "differences = make_array()\n",
    "\n",
    "for i in np.arange(2500):\n",
    "    new_difference = one_simulated_difference(births, 'Birth Weight', 'Maternal Smoker')\n",
    "    differences = np.append(differences, new_difference)"
   ]
  },
  {
   "cell_type": "code",
   "execution_count": null,
   "metadata": {},
   "outputs": [],
   "source": [
    "Table().with_column('Difference Between Group Means', differences).hist()\n",
    "print('Observed Difference:', observed_difference)\n",
    "plots.title('Prediction Under the Null Hypothesis');"
   ]
  },
  {
   "cell_type": "code",
   "execution_count": null,
   "metadata": {},
   "outputs": [],
   "source": []
  }
 ],
 "metadata": {
  "kernelspec": {
   "display_name": "Python 3",
   "language": "python",
   "name": "python3"
  },
  "language_info": {
   "codemirror_mode": {
    "name": "ipython",
    "version": 3
   },
   "file_extension": ".py",
   "mimetype": "text/x-python",
   "name": "python",
   "nbconvert_exporter": "python",
   "pygments_lexer": "ipython3",
   "version": "3.7.3"
  }
 },
 "nbformat": 4,
 "nbformat_minor": 2
}
